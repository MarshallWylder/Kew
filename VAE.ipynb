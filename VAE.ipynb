{
 "cells": [
  {
   "cell_type": "markdown",
   "metadata": {},
   "source": [
    "Import files"
   ]
  },
  {
   "cell_type": "code",
   "execution_count": 65,
   "metadata": {},
   "outputs": [],
   "source": [
    "import os\n",
    "import numpy as np\n",
    "import pandas as pd\n",
    "import torch\n",
    "\n",
    "def read_file(file_path):\n",
    "    data = []\n",
    "    with open(file_path, 'r') as f:\n",
    "        for line in f:\n",
    "            mass, intensity = line.strip().split('\\t')\n",
    "            data.append([float(mass), float(intensity)])\n",
    "    return np.array(data)\n",
    "\n",
    "directory = r'C:\\Users\\Marshall\\TEST DATA\\TEST DATA\\DalbergiaLatifolia'\n",
    "file_paths = [os.path.join(directory, f) for f in os.listdir(directory) if f.endswith('.txt')]\n",
    "device = torch.device(\"cuda\" if torch.cuda.is_available() else \"cpu\")\n",
    "\n",
    "all_data = []\n",
    "for file_path in file_paths:\n",
    "    data = pd.read_csv(file_path,sep= '\\t',header = 1)\n",
    "    all_data.append(data)\n",
    "\n",
    "\n"
   ]
  },
  {
   "cell_type": "markdown",
   "metadata": {},
   "source": [
    "Scale the data"
   ]
  },
  {
   "cell_type": "code",
   "execution_count": 66,
   "metadata": {},
   "outputs": [],
   "source": [
    "all_data_scaled = []\n",
    "for seq in all_data:\n",
    "    seq = np.array(seq)\n",
    "    mass_values = seq[:, 0]\n",
    "    intensity_values = seq[:, 1]\n",
    "\n",
    "    # Calculate the minimum and maximum intensity values for this sequence\n",
    "    intensity_min = np.min(intensity_values)\n",
    "    intensity_max = np.max(intensity_values)\n",
    "\n",
    "    # Scale the intensity values using the max-min scaler\n",
    "    scaled_intensity = (intensity_values - intensity_min) / (intensity_max - intensity_min)\n",
    "\n",
    "    # Combine the scaled intensity values with the mass values\n",
    "    scaled_seq = np.column_stack((mass_values, scaled_intensity))\n",
    "\n",
    "    all_data_scaled.append(scaled_seq)"
   ]
  },
  {
   "cell_type": "code",
   "execution_count": 67,
   "metadata": {},
   "outputs": [],
   "source": [
    "from torch.nn.utils.rnn import pad_sequence\n",
    "\n",
    "#all_data_scaled = np.concatenate(all_data_scaled, axis=0)\n",
    "\n",
    "max_seq_len = max(len(seq) for seq in all_data)\n",
    "\n",
    "# Create a list of tensors from the concatenated data\n",
    "tensor_data = [torch.tensor(seq, dtype=torch.float32) for seq in all_data_scaled]\n",
    "\n",
    "# Pad the sequences\n",
    "padded_data = pad_sequence(tensor_data, batch_first=True, padding_value=0.0)\n"
   ]
  },
  {
   "cell_type": "code",
   "execution_count": 68,
   "metadata": {},
   "outputs": [],
   "source": [
    "features = padded_data[:, :, 0].unsqueeze(-1)  # Mass values\n",
    "targets = padded_data[:, :, 1].unsqueeze(-1)   # Intensity values"
   ]
  },
  {
   "cell_type": "code",
   "execution_count": 69,
   "metadata": {},
   "outputs": [],
   "source": [
    "# Create a mask tensor for the features\n",
    "features_mask = torch.ones_like(features, dtype=torch.bool)\n",
    "for i, seq in enumerate(tensor_data):\n",
    "    features_mask[i, len(seq):, 0] = False\n",
    "\n",
    "# Create a mask tensor for the targets\n",
    "targets_mask = torch.ones_like(targets, dtype=torch.bool)\n",
    "for i, seq in enumerate(tensor_data):\n",
    "    targets_mask[i, len(seq):, 0] = False\n"
   ]
  },
  {
   "cell_type": "markdown",
   "metadata": {},
   "source": [
    "VAE setup"
   ]
  },
  {
   "cell_type": "code",
   "execution_count": 71,
   "metadata": {},
   "outputs": [],
   "source": [
    "import torch\n",
    "import torch.nn as nn\n",
    "\n",
    "class RecurrentVAE(nn.Module):\n",
    "    def __init__(self, feature_dim, target_dim, latent_dim, hidden_dim, num_layers):\n",
    "        super(RecurrentVAE, self).__init__()\n",
    "        self.feature_dim = feature_dim\n",
    "        self.target_dim = target_dim\n",
    "        self.latent_dim = latent_dim\n",
    "        self.hidden_dim = hidden_dim\n",
    "        self.num_layers = num_layers\n",
    "\n",
    "        # Encoder\n",
    "        self.encoder_rnn = nn.LSTM(feature_dim, hidden_dim, num_layers, batch_first=True)\n",
    "        self.mu = nn.Linear(hidden_dim, latent_dim)\n",
    "        self.log_var = nn.Linear(hidden_dim, latent_dim)\n",
    "\n",
    "        # Decoder\n",
    "        self.decoder_rnn = nn.LSTM(latent_dim, hidden_dim, num_layers, batch_first=True)\n",
    "        self.decoder_out = nn.Linear(hidden_dim, target_dim)\n",
    "\n",
    "    def encode(self, features, mask=None):\n",
    "        encoder_outputs, _ = self.encoder_rnn(features)\n",
    "        if mask is not None:\n",
    "            encoder_outputs = encoder_outputs * mask.unsqueeze(-1)\n",
    "        _, (h_n, _) = self.encoder_rnn(encoder_outputs)\n",
    "        h_n = h_n.view(self.num_layers, -1, self.hidden_dim)[-1]\n",
    "        mu = self.mu(h_n)\n",
    "        log_var = self.log_var(h_n)\n",
    "        return mu, log_var\n",
    "\n",
    "    def reparameterize(self, mu, log_var):\n",
    "        std = torch.exp(0.5 * log_var)\n",
    "        eps = torch.randn_like(std)\n",
    "        z = mu + eps * std\n",
    "        return z\n",
    "\n",
    "    def decode(self, z, features, mask=None):\n",
    "        z = z.repeat(1, features.size(1), 1)\n",
    "        outputs, _ = self.decoder_rnn(z, (self.get_hidden_state(features, mask), None))\n",
    "        recon_targets = self.decoder_out(outputs)\n",
    "        if mask is not None:\n",
    "            recon_targets = recon_targets * mask.unsqueeze(-1)\n",
    "        return recon_targets\n",
    "\n",
    "    def get_hidden_state(self, features, mask=None):\n",
    "        encoder_outputs, _ = self.encoder_rnn(features)\n",
    "        if mask is not None:\n",
    "            encoder_outputs = encoder_outputs * mask.unsqueeze(-1)\n",
    "        _, (h_n, _) = self.encoder_rnn(encoder_outputs)\n",
    "        return h_n\n",
    "\n",
    "    def forward(self, features, targets, mask=None):\n",
    "        if mask is not None:\n",
    "            features_mask, targets_mask = mask\n",
    "        else:\n",
    "            features_mask, targets_mask = None, None\n",
    "\n",
    "        mu, log_var = self.encode(features, mask=features_mask)\n",
    "        z = self.reparameterize(mu, log_var)\n",
    "        targets_recon = self.decode(z, features, mask=targets_mask)\n",
    "        return targets_recon, mu, log_var"
   ]
  },
  {
   "cell_type": "markdown",
   "metadata": {},
   "source": [
    "Training the VAE"
   ]
  },
  {
   "cell_type": "code",
   "execution_count": 75,
   "metadata": {},
   "outputs": [
    {
     "ename": "RuntimeError",
     "evalue": "The size of tensor a (11) must match the size of tensor b (1408) at non-singleton dimension 1",
     "output_type": "error",
     "traceback": [
      "\u001b[1;31m---------------------------------------------------------------------------\u001b[0m",
      "\u001b[1;31mRuntimeError\u001b[0m                              Traceback (most recent call last)",
      "Cell \u001b[1;32mIn[75], line 38\u001b[0m\n\u001b[0;32m     34\u001b[0m batch_targets_mask \u001b[38;5;241m=\u001b[39m targets_mask[i:i\u001b[38;5;241m+\u001b[39mbatch_size]\n\u001b[0;32m     36\u001b[0m optimizer\u001b[38;5;241m.\u001b[39mzero_grad()\n\u001b[1;32m---> 38\u001b[0m targets_recon, mu, log_var \u001b[38;5;241m=\u001b[39m \u001b[43mvae\u001b[49m\u001b[43m(\u001b[49m\u001b[43mbatch_features\u001b[49m\u001b[43m,\u001b[49m\u001b[43m \u001b[49m\u001b[43mbatch_targets\u001b[49m\u001b[43m,\u001b[49m\n\u001b[0;32m     39\u001b[0m \u001b[43m                                 \u001b[49m\u001b[43mmask\u001b[49m\u001b[38;5;241;43m=\u001b[39;49m\u001b[43m(\u001b[49m\u001b[43mbatch_features_mask\u001b[49m\u001b[43m,\u001b[49m\u001b[43m \u001b[49m\u001b[43mbatch_targets_mask\u001b[49m\u001b[43m)\u001b[49m\u001b[43m)\u001b[49m\n\u001b[0;32m     41\u001b[0m \u001b[38;5;66;03m# Compute the reconstruction loss\u001b[39;00m\n\u001b[0;32m     42\u001b[0m recon_loss \u001b[38;5;241m=\u001b[39m reconstruction_loss(targets_recon \u001b[38;5;241m*\u001b[39m batch_targets_mask\u001b[38;5;241m.\u001b[39munsqueeze(\u001b[38;5;241m-\u001b[39m\u001b[38;5;241m1\u001b[39m),\n\u001b[0;32m     43\u001b[0m                                  batch_targets \u001b[38;5;241m*\u001b[39m batch_targets_mask\u001b[38;5;241m.\u001b[39munsqueeze(\u001b[38;5;241m-\u001b[39m\u001b[38;5;241m1\u001b[39m),\n\u001b[0;32m     44\u001b[0m                                  reduction\u001b[38;5;241m=\u001b[39m\u001b[38;5;124m'\u001b[39m\u001b[38;5;124msum\u001b[39m\u001b[38;5;124m'\u001b[39m)\n",
      "File \u001b[1;32mc:\\ProgramData\\anaconda3\\envs\\pt_gpu\\Lib\\site-packages\\torch\\nn\\modules\\module.py:1532\u001b[0m, in \u001b[0;36mModule._wrapped_call_impl\u001b[1;34m(self, *args, **kwargs)\u001b[0m\n\u001b[0;32m   1530\u001b[0m     \u001b[38;5;28;01mreturn\u001b[39;00m \u001b[38;5;28mself\u001b[39m\u001b[38;5;241m.\u001b[39m_compiled_call_impl(\u001b[38;5;241m*\u001b[39margs, \u001b[38;5;241m*\u001b[39m\u001b[38;5;241m*\u001b[39mkwargs)  \u001b[38;5;66;03m# type: ignore[misc]\u001b[39;00m\n\u001b[0;32m   1531\u001b[0m \u001b[38;5;28;01melse\u001b[39;00m:\n\u001b[1;32m-> 1532\u001b[0m     \u001b[38;5;28;01mreturn\u001b[39;00m \u001b[38;5;28;43mself\u001b[39;49m\u001b[38;5;241;43m.\u001b[39;49m\u001b[43m_call_impl\u001b[49m\u001b[43m(\u001b[49m\u001b[38;5;241;43m*\u001b[39;49m\u001b[43margs\u001b[49m\u001b[43m,\u001b[49m\u001b[43m \u001b[49m\u001b[38;5;241;43m*\u001b[39;49m\u001b[38;5;241;43m*\u001b[39;49m\u001b[43mkwargs\u001b[49m\u001b[43m)\u001b[49m\n",
      "File \u001b[1;32mc:\\ProgramData\\anaconda3\\envs\\pt_gpu\\Lib\\site-packages\\torch\\nn\\modules\\module.py:1541\u001b[0m, in \u001b[0;36mModule._call_impl\u001b[1;34m(self, *args, **kwargs)\u001b[0m\n\u001b[0;32m   1536\u001b[0m \u001b[38;5;66;03m# If we don't have any hooks, we want to skip the rest of the logic in\u001b[39;00m\n\u001b[0;32m   1537\u001b[0m \u001b[38;5;66;03m# this function, and just call forward.\u001b[39;00m\n\u001b[0;32m   1538\u001b[0m \u001b[38;5;28;01mif\u001b[39;00m \u001b[38;5;129;01mnot\u001b[39;00m (\u001b[38;5;28mself\u001b[39m\u001b[38;5;241m.\u001b[39m_backward_hooks \u001b[38;5;129;01mor\u001b[39;00m \u001b[38;5;28mself\u001b[39m\u001b[38;5;241m.\u001b[39m_backward_pre_hooks \u001b[38;5;129;01mor\u001b[39;00m \u001b[38;5;28mself\u001b[39m\u001b[38;5;241m.\u001b[39m_forward_hooks \u001b[38;5;129;01mor\u001b[39;00m \u001b[38;5;28mself\u001b[39m\u001b[38;5;241m.\u001b[39m_forward_pre_hooks\n\u001b[0;32m   1539\u001b[0m         \u001b[38;5;129;01mor\u001b[39;00m _global_backward_pre_hooks \u001b[38;5;129;01mor\u001b[39;00m _global_backward_hooks\n\u001b[0;32m   1540\u001b[0m         \u001b[38;5;129;01mor\u001b[39;00m _global_forward_hooks \u001b[38;5;129;01mor\u001b[39;00m _global_forward_pre_hooks):\n\u001b[1;32m-> 1541\u001b[0m     \u001b[38;5;28;01mreturn\u001b[39;00m \u001b[43mforward_call\u001b[49m\u001b[43m(\u001b[49m\u001b[38;5;241;43m*\u001b[39;49m\u001b[43margs\u001b[49m\u001b[43m,\u001b[49m\u001b[43m \u001b[49m\u001b[38;5;241;43m*\u001b[39;49m\u001b[38;5;241;43m*\u001b[39;49m\u001b[43mkwargs\u001b[49m\u001b[43m)\u001b[49m\n\u001b[0;32m   1543\u001b[0m \u001b[38;5;28;01mtry\u001b[39;00m:\n\u001b[0;32m   1544\u001b[0m     result \u001b[38;5;241m=\u001b[39m \u001b[38;5;28;01mNone\u001b[39;00m\n",
      "Cell \u001b[1;32mIn[71], line 59\u001b[0m, in \u001b[0;36mRecurrentVAE.forward\u001b[1;34m(self, features, targets, mask)\u001b[0m\n\u001b[0;32m     56\u001b[0m \u001b[38;5;28;01melse\u001b[39;00m:\n\u001b[0;32m     57\u001b[0m     features_mask, targets_mask \u001b[38;5;241m=\u001b[39m \u001b[38;5;28;01mNone\u001b[39;00m, \u001b[38;5;28;01mNone\u001b[39;00m\n\u001b[1;32m---> 59\u001b[0m mu, log_var \u001b[38;5;241m=\u001b[39m \u001b[38;5;28;43mself\u001b[39;49m\u001b[38;5;241;43m.\u001b[39;49m\u001b[43mencode\u001b[49m\u001b[43m(\u001b[49m\u001b[43mfeatures\u001b[49m\u001b[43m,\u001b[49m\u001b[43m \u001b[49m\u001b[43mmask\u001b[49m\u001b[38;5;241;43m=\u001b[39;49m\u001b[43mfeatures_mask\u001b[49m\u001b[43m)\u001b[49m\n\u001b[0;32m     60\u001b[0m z \u001b[38;5;241m=\u001b[39m \u001b[38;5;28mself\u001b[39m\u001b[38;5;241m.\u001b[39mreparameterize(mu, log_var)\n\u001b[0;32m     61\u001b[0m targets_recon \u001b[38;5;241m=\u001b[39m \u001b[38;5;28mself\u001b[39m\u001b[38;5;241m.\u001b[39mdecode(z, features, mask\u001b[38;5;241m=\u001b[39mtargets_mask)\n",
      "Cell \u001b[1;32mIn[71], line 25\u001b[0m, in \u001b[0;36mRecurrentVAE.encode\u001b[1;34m(self, features, mask)\u001b[0m\n\u001b[0;32m     23\u001b[0m encoder_outputs, _ \u001b[38;5;241m=\u001b[39m \u001b[38;5;28mself\u001b[39m\u001b[38;5;241m.\u001b[39mencoder_rnn(features)\n\u001b[0;32m     24\u001b[0m \u001b[38;5;28;01mif\u001b[39;00m mask \u001b[38;5;129;01mis\u001b[39;00m \u001b[38;5;129;01mnot\u001b[39;00m \u001b[38;5;28;01mNone\u001b[39;00m:\n\u001b[1;32m---> 25\u001b[0m     encoder_outputs \u001b[38;5;241m=\u001b[39m \u001b[43mencoder_outputs\u001b[49m\u001b[43m \u001b[49m\u001b[38;5;241;43m*\u001b[39;49m\u001b[43m \u001b[49m\u001b[43mmask\u001b[49m\u001b[38;5;241;43m.\u001b[39;49m\u001b[43munsqueeze\u001b[49m\u001b[43m(\u001b[49m\u001b[38;5;241;43m-\u001b[39;49m\u001b[38;5;241;43m1\u001b[39;49m\u001b[43m)\u001b[49m\n\u001b[0;32m     26\u001b[0m _, (h_n, _) \u001b[38;5;241m=\u001b[39m \u001b[38;5;28mself\u001b[39m\u001b[38;5;241m.\u001b[39mencoder_rnn(encoder_outputs)\n\u001b[0;32m     27\u001b[0m h_n \u001b[38;5;241m=\u001b[39m h_n\u001b[38;5;241m.\u001b[39mview(\u001b[38;5;28mself\u001b[39m\u001b[38;5;241m.\u001b[39mnum_layers, \u001b[38;5;241m-\u001b[39m\u001b[38;5;241m1\u001b[39m, \u001b[38;5;28mself\u001b[39m\u001b[38;5;241m.\u001b[39mhidden_dim)[\u001b[38;5;241m-\u001b[39m\u001b[38;5;241m1\u001b[39m]\n",
      "\u001b[1;31mRuntimeError\u001b[0m: The size of tensor a (11) must match the size of tensor b (1408) at non-singleton dimension 1"
     ]
    }
   ],
   "source": [
    "import torch\n",
    "import torch.nn.functional as F\n",
    "\n",
    "# Instantiate the model\n",
    "vae = RecurrentVAE(feature_dim=1, target_dim=1, latent_dim=32, hidden_dim=64, num_layers=2)\n",
    "\n",
    "# Move the model to GPU (if available)\n",
    "device = torch.device(\"cuda\" if torch.cuda.is_available() else \"cpu\")\n",
    "vae = vae.to(device)\n",
    "\n",
    "# Move the data to GPU (if available)\n",
    "features = features.to(device)\n",
    "targets = targets.to(device)\n",
    "features_mask = features_mask.to(device)\n",
    "targets_mask = targets_mask.to(device)\n",
    "\n",
    "# Define the optimizer and loss function\n",
    "optimizer = torch.optim.Adam(vae.parameters(), lr=0.001)\n",
    "reconstruction_loss = F.mse_loss\n",
    "\n",
    "# Training loop\n",
    "num_epochs = 100\n",
    "batch_size = 11\n",
    "\n",
    "for epoch in range(num_epochs):\n",
    "    vae.train()\n",
    "    total_loss = 0\n",
    "    num_batches = 0\n",
    "\n",
    "    for i in range(0, len(features), batch_size):\n",
    "        batch_features = features[i:i+batch_size]\n",
    "        batch_targets = targets[i:i+batch_size]\n",
    "        batch_features_mask = features_mask[i:i+batch_size]\n",
    "        batch_targets_mask = targets_mask[i:i+batch_size]\n",
    "\n",
    "        optimizer.zero_grad()\n",
    "\n",
    "        targets_recon, mu, log_var = vae(batch_features, batch_targets,\n",
    "                                         mask=(batch_features_mask, batch_targets_mask))\n",
    "\n",
    "        # Compute the reconstruction loss\n",
    "        recon_loss = reconstruction_loss(targets_recon * batch_targets_mask.unsqueeze(-1),\n",
    "                                         batch_targets * batch_targets_mask.unsqueeze(-1),\n",
    "                                         reduction='sum')\n",
    "\n",
    "        # Compute the KL divergence loss\n",
    "        kl_div = -0.5 * torch.sum(1 + log_var - mu.pow(2) - log_var.exp())\n",
    "\n",
    "        loss = recon_loss + kl_div\n",
    "\n",
    "        loss.backward()\n",
    "        optimizer.step()\n",
    "\n",
    "        total_loss += loss.item()\n",
    "        num_batches += 1\n",
    "\n",
    "    avg_loss = total_loss / num_batches\n",
    "    print(f\"Epoch [{epoch+1}/{num_epochs}], Loss: {avg_loss:.4f}\")"
   ]
  },
  {
   "cell_type": "markdown",
   "metadata": {},
   "source": [
    "Create output"
   ]
  },
  {
   "cell_type": "code",
   "execution_count": 29,
   "metadata": {},
   "outputs": [],
   "source": [
    "# Generate synthetic data\n",
    "latent_samples = torch.randn(1000, latent_dim).to(device)\n",
    "synthetic_data = vae.decode(latent_samples)"
   ]
  },
  {
   "cell_type": "code",
   "execution_count": 30,
   "metadata": {},
   "outputs": [
    {
     "data": {
      "image/png": "[encoded data removed]",
      "text/plain": [
       "<Figure size 1000x600 with 1 Axes>"
      ]
     },
     "metadata": {},
     "output_type": "display_data"
    }
   ],
   "source": [
    "# Denormalize the synthetic data\n",
    "synthetic_data = synthetic_data.cpu().detach().numpy()\n",
    "denormalized_samples = (synthetic_data * stds) + means\n",
    "\n",
    "# Save the synthetic data\n",
    "np.savetxt('synthetic_data.txt', denormalized_samples, delimiter='\\t')\n",
    "\n",
    "# Visualize the synthetic data\n",
    "import matplotlib.pyplot as plt\n",
    "\n",
    "plt.figure(figsize=(10, 6))\n",
    "plt.scatter(denormalized_samples[:, 0], denormalized_samples[:, 1])\n",
    "plt.xlabel('Mass')\n",
    "plt.ylabel('Intensity')\n",
    "plt.title('Synthetic Data')\n",
    "plt.grid(True)\n",
    "plt.show()\n",
    "\n",
    "# Save the model\n",
    "torch.save(vae.state_dict(), 'vae_model.pth')\n",
    "\n",
    "\n"
   ]
  },
  {
   "cell_type": "code",
   "execution_count": null,
   "metadata": {},
   "outputs": [],
   "source": []
  }
 ],
 "metadata": {
  "kernelspec": {
   "display_name": "pt_gpu",
   "language": "python",
   "name": "python3"
  },
  "language_info": {
   "codemirror_mode": {
    "name": "ipython",
    "version": 3
   },
   "file_extension": ".py",
   "mimetype": "text/x-python",
   "name": "python",
   "nbconvert_exporter": "python",
   "pygments_lexer": "ipython3",
   "version": "3.12.3"
  }
 },
 "nbformat": 4,
 "nbformat_minor": 2
}
